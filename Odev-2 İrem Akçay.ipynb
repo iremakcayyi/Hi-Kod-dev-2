{
 "cells": [
  {
   "cell_type": "code",
   "execution_count": 5,
   "id": "251c29cd",
   "metadata": {},
   "outputs": [
    {
     "name": "stdout",
     "output_type": "stream",
     "text": [
      "Lütfen maaşınızı girin: 100\n"
     ]
    }
   ],
   "source": [
    " maas = float(input(\"Lütfen maaşınızı girin: \"))\n"
   ]
  },
  {
   "cell_type": "code",
   "execution_count": 2,
   "id": "dd6853d2",
   "metadata": {},
   "outputs": [],
   "source": [
    "    if maas <= 10000:\n",
    "        kesinti_orani = 0.05\n",
    "    elif maas <= 25000:\n",
    "        kesinti_orani = 0.10\n",
    "    elif maas <= 45000:\n",
    "        kesinti_orani = 0.25\n",
    "    else:\n",
    "        kesinti_orani = 0.30\n",
    "\n",
    "    kesinti_miktari = maas * kesinti_orani\n",
    "    yeni_maas = maas - kesinti_miktari\n"
   ]
  },
  {
   "cell_type": "code",
   "execution_count": 19,
   "id": "940845c3",
   "metadata": {},
   "outputs": [
    {
     "name": "stdout",
     "output_type": "stream",
     "text": [
      "Brüt maaşınız: 100.0\n",
      "Kesilecek vergi miktarı: 500.0\n",
      "Net maaşınız: 9500.0\n"
     ]
    }
   ],
   "source": [
    "print(f\"Brüt maaşınız: {maas}\")\n",
    "print(f\"Kesilecek vergi miktarı: {kesinti_miktari}\")\n",
    "print(f\"Net maaşınız: {yeni_maas}\")\n",
    "\n"
   ]
  },
  {
   "cell_type": "code",
   "execution_count": 23,
   "id": "bda712b0",
   "metadata": {},
   "outputs": [
    {
     "name": "stdout",
     "output_type": "stream",
     "text": [
      "Kullanıcı adınızı girin: irme\n",
      "Şifrenizi oluşturun: 123456\n"
     ]
    }
   ],
   "source": [
    "kullanici_adi = input(\"Kullanıcı adınızı girin: \")\n",
    "sifre = input(\"Şifrenizi oluşturun: \")\n"
   ]
  },
  {
   "cell_type": "code",
   "execution_count": 24,
   "id": "93a8b7bb",
   "metadata": {},
   "outputs": [
    {
     "name": "stdout",
     "output_type": "stream",
     "text": [
      "Hesabınız oluşturuldu!\n"
     ]
    }
   ],
   "source": [
    "if len(sifre) >= 6:\n",
    "    print(\"Hesabınız oluşturuldu!\")\n",
    "else:\n",
    "    print(\"Şifreniz en az altı karakter içermelidir. Lütfen daha güçlü bir şifre belirleyin.\")"
   ]
  },
  {
   "cell_type": "code",
   "execution_count": 26,
   "id": "24be2571",
   "metadata": {},
   "outputs": [
    {
     "name": "stdout",
     "output_type": "stream",
     "text": [
      "Lütfen şifrenizi oluşturun (5-10 karakter): 123\n",
      "Lütfen girdiğiniz şifre 5 haneden az veya 10 haneden fazla olmasın!\n",
      "Lütfen şifrenizi oluşturun (5-10 karakter): 123456\n",
      "Hesabınız oluşturuldu!\n"
     ]
    }
   ],
   "source": [
    "while True:\n",
    "    sifre = input(\"Lütfen şifrenizi oluşturun (5-10 karakter): \")\n",
    "\n",
    "    if 5 <= len(sifre) <= 10:\n",
    "        print(\"Hesabınız oluşturuldu!\")\n",
    "        break\n",
    "    else:\n",
    "        print(\"Lütfen girdiğiniz şifre 5 haneden az veya 10 haneden fazla olmasın!\")"
   ]
  },
  {
   "cell_type": "code",
   "execution_count": 33,
   "id": "2a771467",
   "metadata": {},
   "outputs": [
    {
     "name": "stdout",
     "output_type": "stream",
     "text": [
      "Kullanıcı adınızı girin: irme\n",
      "Şifrenizi girin: w\n",
      "Yanlış şifre girdiniz. Kalan hakkınız: 2\n",
      "Şifrenizi girin: e\n",
      "Yanlış şifre girdiniz. Kalan hakkınız: 1\n",
      "Şifrenizi girin: dogruSifre123\n",
      "Giriş yapıldı.\n"
     ]
    }
   ],
   "source": [
    "\n",
    "dogru_sifre = \"dogruSifre123\"\n",
    "\n",
    "isim = input(\"Kullanıcı adınızı girin: \")\n",
    "hak = 3\n",
    "\n",
    "while hak > 0:\n",
    "    girilen_sifre = input(\"Şifrenizi girin: \")\n",
    "\n",
    "    if girilen_sifre == dogru_sifre:\n",
    "        print(\"Giriş yapıldı.\")\n",
    "        break\n",
    "    else:\n",
    "        hak -= 1\n",
    "        if hak > 0:\n",
    "            print(f\"Yanlış şifre girdiniz. Kalan hakkınız: {hak}\")\n",
    "        else:\n",
    "            print(\"Üç kez yanlış şifre girişi yaptınız. Program sonlandırılıyor.\")\n"
   ]
  }
 ],
 "metadata": {
  "kernelspec": {
   "display_name": "Python 3 (ipykernel)",
   "language": "python",
   "name": "python3"
  },
  "language_info": {
   "codemirror_mode": {
    "name": "ipython",
    "version": 3
   },
   "file_extension": ".py",
   "mimetype": "text/x-python",
   "name": "python",
   "nbconvert_exporter": "python",
   "pygments_lexer": "ipython3",
   "version": "3.11.5"
  }
 },
 "nbformat": 4,
 "nbformat_minor": 5
}
